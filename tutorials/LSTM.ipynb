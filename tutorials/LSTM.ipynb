{
 "cells": [
  {
   "cell_type": "markdown",
   "id": "4ab242ba",
   "metadata": {},
   "source": [
    "# Sentiment Analysis on notable speeches of the last decade\n",
    "\n",
    "---\n",
    "\n",
    "This tutorial demonstrates how to build a simple <a href = 'https://en.wikipedia.org/wiki/Long_short-term_memory'> Long Short Term memory network (LSTM) </a> from scratch in NumPy to perform sentiment analysis on a socially relevant and ethically acquired dataset.\n",
    "\n",
    "Your deep learning model - The LSTM is a form of a Recurrent Neural Network and will learn to classify a piece of text as positive or negative from the IMDB reviews dataset. The dataset contains 40,000 training and 10,000 test reviews and corresponding labels. Based on the numeric representations of these reviews and their corresponding labels <a href = 'https://en.wikipedia.org/wiki/Supervised_learning'> (supervised learning) </a> the neural network will be trained to learn the sentiment using forward propagation and backpropagaton through time since we are dealing with sequential data here. The output will be a vector containing the probabilities that the text samples are positive."
   ]
  },
  {
   "cell_type": "markdown",
   "id": "f957fab2",
   "metadata": {},
   "source": [
    "Today, Deep Learning is getting adopted in everyday life and now it is more important to ensure that decisions that have been taken using AI are not reflecting discriminatory behavior towards a set of populations. It is important to take fairness into consideration while consuming the output from AI. Throughout the tutorial we'll try to question all the steps in our pipeline from an ethics point of view."
   ]
  },
  {
   "cell_type": "markdown",
   "id": "5ec02e24",
   "metadata": {},
   "source": [
    "## Prerequisites \n",
    "\n",
    "---\n",
    "\n",
    "You are expected to be familiar with the Python programming language and array manipulation with NumPy. In addition, some understanding of Linear Algebra and Calculus is recommended. You should also be familiar with how Neural Networks work. For reference, you can visit the [Python](https://docs.python.org/dev/tutorial/index.html), [Linear algebra on n-dimensional arrays](https://numpy.org/doc/stable/user/tutorial-svd.html) and [Calculus](https://d2l.ai/chapter_appendix-mathematics-for-deep-learning/multivariable-calculus.html) tutorials.\n",
    "\n",
    "To get a refresher on Deep Learning basics, You should consider reading [the d2l.ai book](https://d2l.ai/chapter_recurrent-neural-networks/index.html), which is an interactive deep learning book with multi-framework code, math, and discussions. You can also go through the [Deep learning on MNIST from scratch tutorial](https://numpy.org/numpy-tutorials/content/tutorial-deep-learning-on-mnist.html) to understand how a basic neural network is implemented from scratch.\n",
    "\n",
    "In addition to NumPy, you will be utilizing the following Python standard modules for data loading and processing:\n",
    "- [`pandas`](https://pandas.pydata.org/docs/) for handling dataframes \n",
    "- [`re`](https://docs.python.org/3/library/re.html) for tokenising textual data \n",
    "- [`string`](https://docs.python.org/3/library/string.html) for string operations  \n",
    "\n",
    "    as well as:\n",
    "- [Matplotlib](https://matplotlib.org/) for data visualization\n",
    "\n",
    "This tutorial can be run locally in an isolated environment, such as [Virtualenv](https://virtualenv.pypa.io/en/stable/) or [conda](https://docs.conda.io/projects/conda/en/latest/user-guide/tasks/manage-environments.html). You can use [Jupyter Notebook or JupyterLab](https://jupyter.org/install) to run each notebook cell."
   ]
  },
  {
   "cell_type": "markdown",
   "id": "2fa57362",
   "metadata": {},
   "source": [
    "## Table of contents\n",
    "\n",
    "---\n",
    "\n",
    "1. Data Collection \n",
    "\n",
    "2. Preprocess the datasets\n",
    "\n",
    "3. Build and train a LSTM network from scratch\n",
    "\n",
    "4. Perform sentiment analysis on collected speeches \n",
    "\n",
    "5. Next steps"
   ]
  },
  {
   "cell_type": "code",
   "execution_count": 1,
   "id": "74aee921",
   "metadata": {},
   "outputs": [],
   "source": [
    "# Importing the necessary packages \n",
    "import numpy as np \n",
    "import pandas as pd \n",
    "import matplotlib.pyplot as plt \n",
    "from text_preprocessing import TextPreprocess \n",
    "import string"
   ]
  },
  {
   "cell_type": "markdown",
   "id": "92e5c803",
   "metadata": {},
   "source": [
    "## 1. Data Collection\n",
    "----\n",
    "\n",
    "Before we begin there are a few pointers you should always keep in mind before choosing the data you wish to train your model on:\n",
    "- **Identifying Data Bias** - Bias is a component of the human thought process, and data collected from humans therefore inherently reflects that bias. Some ways in which this bias tends to occur in Machine Learning datasets are:\n",
    "    - *Bias in historical data*: Historical data are often skewed towards, or against, particular groups.\n",
    "        Data can also be severely imbalanced with limited information on protected groups.\n",
    "    - *Bias in data collection mechanisms*: Lack of representativeness introduces inherent biases in the data collection process.  \n",
    "    - *Bias towards observable outcomes*: In some scenarios, we have the information about True Outcomes only for a certain section of the population. In the absence of information on all outcomes, one cannot even measure fairness\n",
    "- **Preserving human anonymity for sensitive data**: [Trevisan and Reilly](https://eprints.whiterose.ac.uk/91157/1/Ethical%20dilemmas.pdf) identified a list of sensitive topics that need to be handled with extra care. We present the same below along with a few additions:\n",
    "    - personal daily routines (including location data);\n",
    "    - individual details about impairment and/or medical records;\n",
    "    - emotional accounts of pain and chronic illness;\n",
    "    - financial information about income and/or welfare payments;\n",
    "    - discrimination and abuse episodes;\n",
    "    - criticism/praise of individual providers of healthcare and support services\n",
    "    - suicidal thoughts;\n",
    "    - criticism/praise of a power structure especially if it compromises their safety\n",
    "    - personally-identifying information (even if anonymized in some way) including things like fingerprints or voice\n",
    "\n",
    "In this section, you will be collecting two different datasets, the IMDB movie reviews dataset and a collection of 10 speeches curated for this tutorial including activists from different countries around the world, different times, and different topics. The former would be used to train the deep learning model while the latter will be used to perform sentiment analysis on."
   ]
  },
  {
   "cell_type": "markdown",
   "id": "82f234ac",
   "metadata": {},
   "source": [
    "### Collecting the IMDB reviews dataset\n",
    "The IMDB dataset can be found on the website by [Stanford AI Lab](http://ai.stanford.edu/~amaas/data/sentiment/). To make things a bit simpler we're using the dataframe version downloaded from [Kaggle](https://www.kaggle.com/lakshmi25npathi/imdb-dataset-of-50k-movie-reviews)\n",
    "   > The IMDb platform allows the usage of their public datasets for personal and non-commercial use. We did our best to ensure that these reviews do not contain any of the aforementioned sensitive topics pertaining to the reviewer."
   ]
  },
  {
   "cell_type": "markdown",
   "id": "19307b3c",
   "metadata": {},
   "source": [
    "### Collecting and loading the speech transcripts\n",
    "We have chosen speeches by activists around the globe talking about issues like climate change, feminism, lgbtqa+ rights and racism. These were sourced them from newspapers, the official website of the United Nations and the archives of established universities as cited in the table below. A csv file was created containing the transcribed speeches, their speaker and the source the speeches were obtained from. \n",
    "We made sure to include different demographics in our data and included a range of different topics, most of which focus on social and/or ethical issues. The dataset is subjected to the CCO Creative Common License, which means that is free for the public to use and there are no copyrights reserved.\n",
    "\n",
    "| Speech                                           | Speaker                 | Source                                                     |\n",
    "|--------------------------------------------------|-------------------------|------------------------------------------------------------|\n",
    "| Barnard College Commencement                     | Leymah Gbowee           | Barnard College - Columbia University official website     |\n",
    "| UN Speech on youth Education                     | Malala Yousafzai        | Iowa state university archives                             |\n",
    "| Remarks in the UNGA on racial discrimination     | Linda Thomas Greenfield | United States mission to the United Nation                 |\n",
    "| How Dare You                                     | Greta Thunberg          | NBC’s official website                                     |\n",
    "| The speech that silenced the world for 5 minutes | Severn Suzuki           | NTU blogs                                                  |\n",
    "| The Hope Speech                                  | Harvey Milk             | University of Maryland archives                            |\n",
    "| Violence against LGBTQA+                         | Michelle Bachelet       | United Nations office of high commisioner official website |\n",
    "| I have a dream                                   | Martin Luther King      | Brittanica official website"
   ]
  },
  {
   "cell_type": "markdown",
   "id": "a0e8d511",
   "metadata": {},
   "source": [
    "## 2. Preprocess the datasets\n",
    ">Preprocessing data is an extremely crucial step before building any Deep learning model, however in an attempt to keep the tutorial focused on building the model, we will not dive deep into the code for preprocessing. Given below is a brief overview of all the steps we undertake to clean our data and convert it to its numeric representation. The [code](https://github.com/Dbhasin1/ethics-tutorial/blob/lstm-update/tutorials/text_preprocessing.py) is public and we encourage you to look it up for a better understanding of this section\n",
    "\n",
    "1. **Text Denoising** : Before converting your text into vectors, it is important to clean it and remove all unhelpful parts a.k.a the noise from your data by converting all characters to lowercase, removing html tags, brackets and stop words (words that don't add much meaning to a sentence). Without this step the dataset is often a cluster of words that the computer doesn't understand.\n",
    "\n",
    "\n",
    "2. **Tokenization** : So far the text we have is in its raw form, it needs to be broken apart into chunks called tokens because the most common way of processing language happens at the token level. This process of separating a piece of text into smaller units is called Tokenisation. The tokens obtained are then used to build a vocabulary. Vocabulary refers to a set of all tokens in the corpus along with a unique index allotted to each of them.\n",
    "\n",
    "\n",
    "3. **Converting words to vectors** : A word embedding is a learned representation for text where words that have the same meaning have a similar representation. Individual words are represented as real-valued vectors in a predefined vector space. GloVe is n unsupervised algorithm developed by Stanford for generating word embeddings by generating global word-word co-occurence matrix from a corpus. You can download the zipped files containing the embeddings from https://nlp.stanford.edu/projects/glove/. Here you can choose any of the four options for different sizes or training datasets\n",
    " >The GloVe word embeddings include sets that were trained on billions of tokens, some up to 840 billion tokens. These algorithms exhibit stereotypical biases, such as gender bias which can be traced back to the original training data. For example certain occupations seem to be more biased towards a particular gender, reinforcing problematic stereotypes. The nearest solution to this problem are some de-biasing algorithms as the one presented in https://web.stanford.edu/class/archive/cs/cs224n/cs224n.1184/reports/6835575.pdf which one can use on embeddings of their choice to mitigate bias, if present."
   ]
  },
  {
   "cell_type": "markdown",
   "id": "8acd1b7b",
   "metadata": {},
   "source": [
    "You will need two files for the initial preprocessing:"
   ]
  },
  {
   "cell_type": "code",
   "execution_count": 2,
   "id": "8a0a851b",
   "metadata": {},
   "outputs": [],
   "source": [
    "imdb_data_path = '../../lstm/server/IMDB Dataset.csv'\n",
    "emb_path = '../../lstm/server/glove.6B.300d.txt'"
   ]
  },
  {
   "cell_type": "markdown",
   "id": "07c2c597",
   "metadata": {},
   "source": [
    "Next, you will load the IMDB dataset into a dataframe using Pandas"
   ]
  },
  {
   "cell_type": "code",
   "execution_count": 3,
   "id": "8b5bf0f6",
   "metadata": {},
   "outputs": [],
   "source": [
    "imdb_df = pd.read_csv(imdb_data_path)"
   ]
  },
  {
   "cell_type": "markdown",
   "id": "05d1ef4c",
   "metadata": {},
   "source": [
    "We will use the text preprocessing class imported from the aforementioned [code](https://github.com/Dbhasin1/ethics-tutorial/blob/lstm-update/tutorials/text_preprocessing.py) to carry out the data preprocessing:"
   ]
  },
  {
   "cell_type": "code",
   "execution_count": 4,
   "id": "8dd51e60",
   "metadata": {},
   "outputs": [
    {
     "name": "stderr",
     "output_type": "stream",
     "text": [
      "/Users/dbhasin/Desktop/Quansight/ethics-tutorial/tutorials/text_preprocessing.py:84: FutureWarning: The default value of regex will change from True to False in a future version.\n",
      "  data_without_stopwords[f'clean_{text_column}'] = data_without_stopwords[f'clean_{text_column}'].str.replace('[{}]'.format(string.punctuation), ' ')\n"
     ]
    }
   ],
   "source": [
    "imdb_textproc = TextPreprocess(emb_path)\n",
    "X = imdb_textproc.cleantext(imdb_df, 'review', remove_stopwords = True, remove_punc = True)"
   ]
  },
  {
   "cell_type": "markdown",
   "id": "33b76c11",
   "metadata": {},
   "source": [
    "Now, we need to create a split between training and testing datasets. You can vary the split_percentile to try different ratios:"
   ]
  },
  {
   "cell_type": "code",
   "execution_count": 5,
   "id": "ee676265",
   "metadata": {},
   "outputs": [],
   "source": [
    "y = imdb_df['sentiment'].to_numpy()\n",
    "X_train, Y_train, X_test, Y_test = imdb_textproc.split_data(X, y, split_percentile=10)"
   ]
  },
  {
   "cell_type": "markdown",
   "id": "89d8a7cf",
   "metadata": {},
   "source": [
    "In order to replace each word with its word embedding, we will first need to replace it with its unique index."
   ]
  },
  {
   "cell_type": "code",
   "execution_count": 6,
   "id": "038b7b1d",
   "metadata": {},
   "outputs": [],
   "source": [
    "X_train_indices = imdb_textproc.transform_input(X_train)"
   ]
  },
  {
   "cell_type": "markdown",
   "id": "7372d7f8",
   "metadata": {},
   "source": [
    "We will use the training corpus to build a matrice mapping each word index and word embedding. This will act as a cache for when we have to replace each word indice with its respective word embedding."
   ]
  },
  {
   "cell_type": "code",
   "execution_count": 7,
   "id": "86519893",
   "metadata": {},
   "outputs": [
    {
     "name": "stdout",
     "output_type": "stream",
     "text": [
      "Loading Glove Model\n",
      "400000  words loaded!\n"
     ]
    }
   ],
   "source": [
    "imdb_emb_matrix = imdb_textproc.emb_matrix(X_train)"
   ]
  },
  {
   "cell_type": "markdown",
   "id": "77de32a8",
   "metadata": {},
   "source": [
    "Now, we will apply the same process to the speeches in our dataset:"
   ]
  },
  {
   "cell_type": "code",
   "execution_count": 8,
   "id": "49502920",
   "metadata": {},
   "outputs": [
    {
     "name": "stdout",
     "output_type": "stream",
     "text": [
      "Loading Glove Model\n",
      "400000  words loaded!\n"
     ]
    }
   ],
   "source": [
    "speech_data_path = '../data/speeches.csv'\n",
    "speech_df = pd.read_csv(speech_data_path)\n",
    "speech_textproc = TextPreprocess(emb_path)\n",
    "X_pred = speech_textproc.cleantext(speech_df, 'speech', remove_stopwords = True, remove_punc = False)\n",
    "speakers = speech_df['speaker'].to_numpy()\n",
    "speech_emb_matrix = speech_textproc.emb_matrix(X_pred)"
   ]
  },
  {
   "cell_type": "markdown",
   "id": "570db92b",
   "metadata": {},
   "source": [
    "### 3. Build the Deep Learning Model¶\n",
    " ---\n",
    " It’s time to start implementing our LSTM! You will have to first familiarize yourself with some high-level concepts of the basic building blocks of a deep learning model. You can refer to the [Deep learning on MNIST from scratch tutorial](https://numpy.org/numpy-tutorials/content/tutorial-deep-learning-on-mnist.html) for the same. \n",
    "\n",
    "You will then learn how a Recurrent Neural Network differs from a plain Neural Network and what makes it so suitable for processing sequential data. Afterwards, you will construct the building blocks of a simple deep learning model in Python and NumPy and train it to learn to classify the sentiment of a piece of text as positive or negative with a certain level of accuracy\n",
    "\n",
    "### Introduction to a Long Short Term Memory Network\n",
    "\n",
    "In a plain neural network, the information only moves in one direction — from the input layer, through the hidden layers, to the output layer. The information moves straight through the network and never takes the previous nodes into account at a later stage. Because it only considers the current input, it has no notion of order in time. It simply can’t remember anything about what happened in the past except its training.\n",
    "\n",
    "In a RNN the information cycles through a loop. When it makes a decision, it considers the current input and also what it has learned from the inputs it received previously. \n",
    "\n",
    "The problem with an RNN however, is that the influence of a given input on the hidden layer, and therefore on the network output, either decays or blows up exponentially as it cycles around the network’s recurrent connections. This shortcoming is referred to as the vanishing gradient problem. Long Short-Term Memory (LSTM) is an RNN architecture specifically designed to address the vanishing gradient problem."
   ]
  },
  {
   "attachments": {
    "lstm.jpg": {
     "image/jpeg": "[encoded data removed]"
    }
   },
   "cell_type": "markdown",
   "id": "78698b70",
   "metadata": {},
   "source": [
    "### Overview of the Model Architecture \n",
    "\n",
    "![lstm.jpg](attachment:lstm.jpg)"
   ]
  },
  {
   "cell_type": "markdown",
   "id": "acf9c973",
   "metadata": {},
   "source": [
    "In the above image, The rectangles labelled 'A' are called `Cells` and they are the **Memory Blocks** of our LSTM network. They are responsible for choosing what to remember in a sequence and pass on that information to the next cell via two states called the `hidden state` $H_{t}$ and the `cell state` $C_{t}$ where $t$ indicates the time-step. To know how these states are calculated you'll need to understand the mechanisms happening inside a cell, we will recommend you to go through [ Long Short-Term Memory (LSTM)](http://d2l.ai/chapter_recurrent-modern/lstm.html)."
   ]
  },
  {
   "cell_type": "markdown",
   "id": "fd29ad6a",
   "metadata": {},
   "source": [
    "### But how do we obtain sentiment from the LSTM's output?\n",
    "The hidden state we obtain from the last word in our sequence is considered to be a representation of all the information contained in a sequence. To classify this information into various classes (2 in our case, positive and negative) we can use a Fully Connected layer which firstly maps this information to a desired output size and an activation layer like sigmoid on top of it finally converts the output to a value between 0 and 1. We'll consider values greater than 0.5 to be indicative of a positive sentiment."
   ]
  },
  {
   "cell_type": "markdown",
   "id": "4f04cc57",
   "metadata": {},
   "source": [
    "Define a function to randomly initialise the parameters which will be learnt while our model trains"
   ]
  },
  {
   "cell_type": "code",
   "execution_count": 9,
   "id": "2fc48ab6",
   "metadata": {},
   "outputs": [],
   "source": [
    "def initialise_params (hidden_dim, input_dim):\n",
    "        Wf = np.random.randn(hidden_dim, hidden_dim + input_dim) # forget gate \n",
    "        bf = np.random.randn(hidden_dim, 1)\n",
    "        Wi = np.random.randn(hidden_dim, hidden_dim + input_dim) # input gate \n",
    "        bi = np.random.randn(hidden_dim, 1)\n",
    "        Wcm = np.random.randn(hidden_dim, hidden_dim + input_dim) # candidate memory gate \n",
    "        bcm = np.random.randn(hidden_dim, 1)\n",
    "        Wo = np.random.randn(hidden_dim, hidden_dim + input_dim) # output gate \n",
    "        bo = np.random.randn(hidden_dim, 1)\n",
    "        \n",
    "        W2 = np.random.randn(1, hidden_dim) # fully connected classification layer \n",
    "        b2 = np.zeros((1, 1))\n",
    "\n",
    "        parameters = {\"Wf\": Wf, \"bf\": bf, \"Wi\": Wi, \"bi\": bi, \"Wcm\": Wcm, \"bcm\": bcm, \"Wo\": Wo, \"bo\": bo, \"W2\": W2, \"b2\": b2}\n",
    "        return parameters    "
   ]
  },
  {
   "cell_type": "markdown",
   "id": "118bbf79",
   "metadata": {},
   "source": [
    "### Forward Propagation\n",
    "\n",
    "Now that we have our initialised parameters we pass the input data in a forward direction through the network. Each layer accepts the input data, processes it and passes it to the successive layer. This process is called `Forward Propagation`. You will undertake the following mechanism to implement the same:\n",
    "- Loading the word embeddings of the input data\n",
    "- Passing the embeddings to an LSTM to obtain the output of the final cell\n",
    "- Passing the final output from the LSTM through a fully connected layer to obtain the probability with which the sequence is positive \n",
    "- Storing all the intermediate outputs in a cache to utilise during backpropagation"
   ]
  },
  {
   "cell_type": "markdown",
   "id": "f81fb0e6",
   "metadata": {},
   "source": [
    "Define a function to calculate the sigmoid of an array"
   ]
  },
  {
   "cell_type": "code",
   "execution_count": 10,
   "id": "56d6e6ec",
   "metadata": {},
   "outputs": [],
   "source": [
    "def sigmoid(x):\n",
    "    # To prevent overflow \n",
    "    x = np.clip(x, -709.78, 709.78)\n",
    "    res = 1 / (1 + np.exp(-x))\n",
    "    return res"
   ]
  },
  {
   "cell_type": "markdown",
   "id": "cb33914b",
   "metadata": {},
   "source": [
    "Define a function to carry out forward propagation"
   ]
  },
  {
   "cell_type": "code",
   "execution_count": 11,
   "id": "f0b47979",
   "metadata": {},
   "outputs": [],
   "source": [
    "def forward_prop (X_vec, parameters):\n",
    "    \n",
    "    # Loading input data \n",
    "    X_vec = X_vec\n",
    "    \n",
    "    # Retrieve values of all parameters \n",
    "    Wf, bf, Wi, bi, Wcm, bcm, Wo, bo, W2, b2 = parameters.values()\n",
    "    \n",
    "    hidden_dim = Wf.shape[0]\n",
    "    batch_size = X_vec.shape[1]\n",
    "    time_steps = X_vec.shape[2]\n",
    "    \n",
    "    # Initialise hidden and cell state before passing to first time step\n",
    "    prev_hidden_state = np.zeros((hidden_dim, batch_size))\n",
    "    prev_cell_state = np.zeros(prev_hidden_state.shape)\n",
    "    \n",
    "    # Store all the intermediate and final variables here \n",
    "    caches = {'lstm_values':[], 'fc_values':[]}\n",
    "    \n",
    "    # Hidden state from the last cell in the LSTM layer is calculated.\n",
    "    for t in range(time_steps):\n",
    "        # Retrieve embedding for one word for each time step\n",
    "        X_t = X_vec[:, :, t]\n",
    "        \n",
    "        # Concatenate prev_hidden_state and xt\n",
    "        concat = np.vstack((prev_hidden_state, X_t))\n",
    "        \n",
    "        # Calculate output of the forget gate \n",
    "        ft = sigmoid(np.dot(Wf, concat) + bf)\n",
    "        \n",
    "        # Calculate output of the input gate \n",
    "        it = sigmoid(np.dot(Wi, concat) + bi) \n",
    "        cmt = np.tanh(np.dot(Wcm, concat) + bcm)\n",
    "        io = it * cmt \n",
    "        \n",
    "        # Update the cell state \n",
    "        next_cell_state = (ft * prev_cell_state) + io\n",
    "        \n",
    "        # Calculate output of the output gate \n",
    "        ot = sigmoid(np.dot(Wo, concat) + bo)\n",
    "        \n",
    "        # Update the hidden input \n",
    "        next_hidden_state =  ot * np.tanh(next_cell_state)\n",
    "        \n",
    "        # store values needed for backward propagation in cache\n",
    "        cache = (next_hidden_state, next_cell_state, prev_hidden_state, prev_cell_state, ft, it, cmt, ot, X_t)\n",
    "        caches['lstm_values'].append(cache)\n",
    "        \n",
    "        # Update hidden state and cell state for next time step\n",
    "        prev_hidden_state = next_hidden_state\n",
    "        prev_cell_state = next_cell_state\n",
    "\n",
    "    # Pass through a fully connected layer to perform binary classification \n",
    "    z2 = np.dot(W2, next_hidden_state) + b2\n",
    "    a2 = sigmoid(z2)\n",
    "    cache = (a2, W2)\n",
    "    caches['fc_values'].append(cache)\n",
    "    \n",
    "    return caches "
   ]
  },
  {
   "cell_type": "markdown",
   "id": "94aaffc6",
   "metadata": {},
   "source": [
    "### Backpropagation\n",
    "\n",
    "After each forward pass through the network, you will implement the `backpropagation through time` algorithm to accumulate gradients of each parameter over the time steps. Backpropagation through a LSTM is not as straightforward as through other common Deep Learning architectures, due to the special way its underlying layers interact. Nonetheless, the approach is largely the same; identifying dependencies and applying the chain rule."
   ]
  },
  {
   "cell_type": "markdown",
   "id": "26504e36",
   "metadata": {},
   "source": [
    "Lets start with defining a function to initialise gradients of each parameter as arrays made up of zeros with same dimensions as the corresponding parameter"
   ]
  },
  {
   "cell_type": "code",
   "execution_count": 12,
   "id": "ef3e2c48",
   "metadata": {},
   "outputs": [],
   "source": [
    "# Initialise the gradients \n",
    "def initialise_grads (parameters):\n",
    "    grads = {}\n",
    "    for param in parameters.keys():\n",
    "        grads[f'd{param}'] = np.zeros((parameters[param].shape))\n",
    "    return grads    "
   ]
  },
  {
   "cell_type": "markdown",
   "id": "c8eefb91",
   "metadata": {},
   "source": [
    "Now we'll define a function to calculate the gradients of each intermediate value in the neural network with respect to the loss and accumulate those gradients over the entire sequence. To understand how the gradients are calculated at each step in greater depth, you are suggested to follow this helpful [blog](https://christinakouridi.blog/2019/06/19/backpropagation-lstm/) by Christina Kouridi"
   ]
  },
  {
   "cell_type": "code",
   "execution_count": 13,
   "id": "6e6ede52",
   "metadata": {},
   "outputs": [],
   "source": [
    " def backprop (y, caches, hidden_dim, input_dim, time_steps,  parameters):\n",
    "    # Retrieve output and corresponding weights of fully connected layer\n",
    "    A2, W2 = caches['fc_values'][0]\n",
    "    # Retrieve hidden state calculated in the last time step\n",
    "    h_last = caches['lstm_values'][-1][0]\n",
    "    # Retrieve batch size \n",
    "    batch_size = y.shape[1]\n",
    "    \n",
    "    pred_value = np.array(A2)\n",
    "    target_value = np.array(y)\n",
    "    \n",
    "    # Initialise gradients \n",
    "    dWf, dbf, dWi, dbi, dWcm, dbcm, dWo, dbo, dW2, db2 = initialise_grads(parameters).values()\n",
    "    # Store gradients in a dictionary\n",
    "    grads = {\"dWf\": dWf, \"dbf\": dbf, \"dWi\": dWi, \"dbi\": dbi, \"dWcm\": dWcm, \"dbcm\": dbcm, \n",
    "                 \"dWo\": dWo, \"dbo\": dbo, \"dW2\": dW2, \"db2\": db2}\n",
    "    \n",
    "    # Calculate gradients of the fully connected layer \n",
    "    # dZ2 = dL/da2 * da2/dZ2\n",
    "    dZ2 = pred_value - target_value\n",
    "    # dW2 = dL/da2 * da2/dZ2 * dZ2/dW2\n",
    "    dW2 = (1 / batch_size) * np.dot(dZ2, h_last.T)\n",
    "    # db2 = dL/da2 * da2/dZ2 * dZ2/db2\n",
    "    db2 = (1 / batch_size) * np.sum(dZ2)\n",
    "    \n",
    "    # Gradient of Loss w.r.t the last hidden output of the LSTM \n",
    "    # dh_last = dZ2 * W2 \n",
    "    dh_last = np.dot(W2.T, dZ2)  \n",
    "    \n",
    "    # Initialise gradients w.r.t previous hidden state and cell state \n",
    "    dh_prev = dh_last\n",
    "    dc_prev = np.zeros((dh_prev.shape))\n",
    "    \n",
    "    # loop back over the whole sequence\n",
    "    for t in reversed(range(time_steps)):\n",
    "        cache = caches['lstm_values'][t]\n",
    "        \n",
    "        # Retrieve parameters from \"parameters\"\n",
    "        Wf = parameters[\"Wf\"]\n",
    "        Wi = parameters[\"Wi\"]\n",
    "        Wcm = parameters[\"Wcm\"]\n",
    "        Wo = parameters[\"Wo\"]\n",
    "\n",
    "        # Retrieve information from \"cache\"\n",
    "        (next_hidden_state, next_cell_state, prev_hidden_state, prev_cell_state, ft, it, cmt, ot, X_t) = cache\n",
    "        # Input to gates of LSTM is [prev_hidden_state, X_t]\n",
    "        concat = np.concatenate((prev_hidden_state, X_t), axis=0)\n",
    "        \n",
    "        # Compute gates related derivatives\n",
    "        # Calculate derivative w.r.t the parameters of forget gate \n",
    "        # dft = dL/da2 * da2/dZ2 * dZ2/dh_prev * dh_prev/dc_prev * dc_prev/dft\n",
    "        dft = (dc_prev * prev_cell_state + ot * (1 - np.square(np.tanh(next_cell_state))) * prev_cell_state * dh_prev) * ft * (1 - ft)\n",
    "        # dWf = dft * dft/dWf\n",
    "        dWf = np.dot(dft, concat.T)\n",
    "         # dbf = dft * dft/dbf\n",
    "        dbf = np.sum(dft, axis=1, keepdims=True)\n",
    "        # dh_f = dft * dft/dh_prev\n",
    "        dh_f =  np.dot(Wf[:, :hidden_dim].T, dft)\n",
    "        \n",
    "        # Calculate derivative w.r.t the parameters of input gate \n",
    "        # dit = dL/da2 * da2/dZ2 * dZ2/dh_prev * dh_prev/dc_prev * dc_prev/dit\n",
    "        dit = (dc_prev * cmt + ot * (1 - np.square(np.tanh(next_cell_state))) * cmt * dh_prev) * it * (1 - it)\n",
    "        # dcmt = dL/da2 * da2/dZ2 * dZ2/dh_prev * dh_prev/dc_prev * dc_prev/dcmt\n",
    "        dcmt = (dc_prev * it + ot * (1 - np.square(np.tanh(next_cell_state))) * it * dh_prev) * (1 - np.square(cmt))\n",
    "        # dWi = dit * dit/dWi\n",
    "        dWi = np.dot(dit, concat.T)\n",
    "        # dWcm = dcmt * dcmt/dWcm\n",
    "        dWcm = np.dot(dcmt, concat.T)\n",
    "        # dbi = dit * dit/dbi\n",
    "        dbi = np.sum(dit, axis=1, keepdims=True)\n",
    "        # dWcm = dcmt * dcmt/dbcm\n",
    "        dbcm = np.sum(dcmt, axis=1, keepdims=True)\n",
    "        # dhi = dit * dit/dh_prev\n",
    "        dh_i =  np.dot(Wi[:, :hidden_dim].T, dit)\n",
    "        # dhcm = dcmt * dcmt/dh_prev\n",
    "        dh_cm = np.dot(Wcm[:, :hidden_dim].T, dcmt)\n",
    "        \n",
    "        # Calculate derivative w.r.t the parameters of output gate \n",
    "        # dot = dL/da2 * da2/dZ2 * dZ2/dh_prev * dh_prev/dot \n",
    "        dot = dh_prev * np.tanh(next_cell_state) * ot * (1 - ot)\n",
    "        # dWo = dot * dot/dWo\n",
    "        dWo = np.dot(dot, concat.T)\n",
    "        # dbo = dot * dot/dbo\n",
    "        dbo = np.sum(dot, axis=1, keepdims=True)\n",
    "        # dho = dot * dot/dho\n",
    "        dh_o = np.dot(Wo[:, :hidden_dim].T, dot)\n",
    "       \n",
    "        # Compute derivatives w.r.t previous hidden state and the previous cell state \n",
    "        dh_prev = dh_f + dh_i + dh_cm + dh_o \n",
    "        dc_prev = dc_prev * ft + ot * (1 - np.square(np.tanh(next_cell_state))) * ft * dh_prev\n",
    "        \n",
    "        # sum up the gradients over the sequence \n",
    "        grads[\"dWf\"] += dWf\n",
    "        grads[\"dWi\"] += dWi\n",
    "        grads[\"dWcm\"] += dWcm\n",
    "        grads[\"dWo\"] += dWo\n",
    "        grads[\"dbf\"] += dbf\n",
    "        grads[\"dbi\"] += dbi\n",
    "        grads[\"dbcm\"] += dbcm\n",
    "        grads[\"dbo\"] += dbo\n",
    "    \n",
    "    # Rescale the gradients to improve training stability \n",
    "    for key in grads:\n",
    "        factor= np.linalg.norm(grads[key])\n",
    "        if factor != 0:\n",
    "            grads[key] = grads[key]/factor\n",
    "        \n",
    "    return grads"
   ]
  },
  {
   "cell_type": "markdown",
   "id": "79c6f707",
   "metadata": {},
   "source": [
    "### Updating the Parameters \n",
    "\n",
    "We update the parameters through an optimization algorithm called [Adam](https://optimization.cbe.cornell.edu/index.php?title=Adam) which is an extension to stochastic gradient descent that has recently seen broader adoption for deep learning applications in computer vision and natural language processing. Specifically, the algorithm calculates an exponential moving average of the gradient and the squared gradient, and the parameters beta1 and beta2 control the decay rates of these moving averages. Adam has shown increased convergence and robustness over other gradient descent algorithms and is often recommended as the default optimizer for training."
   ]
  },
  {
   "cell_type": "markdown",
   "id": "736a7f51",
   "metadata": {},
   "source": [
    "Define a function to initialise the moving averages for each parameter"
   ]
  },
  {
   "cell_type": "code",
   "execution_count": 14,
   "id": "2835d1cd",
   "metadata": {},
   "outputs": [],
   "source": [
    "# initialise the moving averages\n",
    "def initialise_mav (hidden_dim, input_dim):\n",
    "    v = {}\n",
    "    s = {}\n",
    "\n",
    "    grad_keys = [\"dWf\", \"dbf\", \"dWi\", \"dbi\", \"dWcm\", \"dbcm\", \"dWo\", \"dbo\", \"dW2\", \"db2\"]\n",
    "    grad_shapes = [(hidden_dim, hidden_dim + input_dim), (hidden_dim, 1),  # shape of dWf, dbf\n",
    "               (hidden_dim, hidden_dim + input_dim), (hidden_dim, 1),  # shape of dWi, dbi\n",
    "               (hidden_dim, hidden_dim + input_dim), (hidden_dim, 1),  # shape of dWcm, dbcm\n",
    "               (hidden_dim, hidden_dim + input_dim), (hidden_dim, 1),  # shape of dWo, dbo\n",
    "               (1, hidden_dim), (1, 1)]  # shape of dW2, db2\n",
    "\n",
    "    # Initialize dictionaries v, s\n",
    "    for key, shape in zip(grad_keys, grad_shapes):\n",
    "        v[key] = np.zeros(shape)\n",
    "        s[key] = np.zeros(shape)\n",
    "        \n",
    "    # Return initialised moving averages \n",
    "    return v,s \n",
    "    "
   ]
  },
  {
   "cell_type": "markdown",
   "id": "d2f80570",
   "metadata": {},
   "source": [
    "Define a function to update the parameters"
   ]
  },
  {
   "cell_type": "code",
   "execution_count": 15,
   "id": "34ddf43e",
   "metadata": {},
   "outputs": [],
   "source": [
    "# Update the parameters using Adam optimization \n",
    "def update_parameters (parameters, gradients, v, s, learning_rate=0.01, beta1=0.9, beta2=0.999, epsilon=1e-8):\n",
    "    param_keys = list(parameters.keys())\n",
    "    grad_keys = list(gradients.keys())\n",
    "    \n",
    "    for param_key, grad_key in zip(param_keys, grad_keys):\n",
    "        # Moving average of the gradients\n",
    "        v[grad_key] = beta1 * v[grad_key] + (1 - beta1) * gradients[grad_key]\n",
    "\n",
    "        # Moving average of the squared gradients\n",
    "        s[grad_key] = beta2 * s[grad_key] + (1 - beta2) * (gradients[grad_key] ** 2)\n",
    "\n",
    "        # Update parameters\n",
    "        parameters[param_key] = parameters[param_key] - learning_rate * v[grad_key] / np.sqrt(\n",
    "            s[grad_key] + epsilon)\n",
    "    # Return updated parameters and moving averages \n",
    "    return parameters, v, s  "
   ]
  },
  {
   "cell_type": "markdown",
   "id": "6b176bff",
   "metadata": {},
   "source": [
    "### Training the Network\n",
    "---"
   ]
  },
  {
   "cell_type": "markdown",
   "id": "5d635172",
   "metadata": {},
   "source": [
    "You will start by initialising all the parameters and hyperparameters being used in your network"
   ]
  },
  {
   "cell_type": "code",
   "execution_count": 16,
   "id": "fd81bf90",
   "metadata": {},
   "outputs": [],
   "source": [
    "batch_size = 8\n",
    "hidden_dim = 64\n",
    "input_dim = 300\n",
    "time_steps = X_train_indices.shape[1]\n",
    "learning_rate = 0.01\n",
    "epochs = 20\n",
    "parameters = initialise_params(hidden_dim, input_dim)\n",
    "v,s = initialise_mav(hidden_dim, input_dim)"
   ]
  },
  {
   "cell_type": "markdown",
   "id": "d965e003",
   "metadata": {},
   "source": [
    "You will then split your input data into batches as it requires way less memory as compared to loading the complete data set and is way faster than loading the data set one input at a time"
   ]
  },
  {
   "cell_type": "code",
   "execution_count": 17,
   "id": "bb655159",
   "metadata": {},
   "outputs": [],
   "source": [
    "# Retrieve total number of input samples (tweets in our case)\n",
    "num_samples = X_train_indices.shape[0]\n",
    "# Obtain the total number of batches \n",
    "no_batches = int(num_samples / batch_size)\n",
    "# Initialise batch vectors of the training data \n",
    "X_batches, y_batches = np.zeros((no_batches, batch_size, time_steps)), np.zeros((no_batches, 1, batch_size))\n",
    "y_train = Y_train.reshape((1, Y_train.shape[0]))\n",
    "for i in range(no_batches):\n",
    "    start_example, end_example = i * batch_size, (i + 1) * batch_size\n",
    "    X_batches[i, :, :] = X_train_indices[start_example:end_example,:] \n",
    "    y_batches[i, :, :] = y_train[:, start_example:end_example] "
   ]
  },
  {
   "cell_type": "markdown",
   "id": "26f67ba1",
   "metadata": {},
   "source": [
    "Define a function that replaces each word indice contained in an array with its corresponding word embedding"
   ]
  },
  {
   "cell_type": "code",
   "execution_count": 18,
   "id": "68d1432b",
   "metadata": {},
   "outputs": [],
   "source": [
    "def embedding_vectors(X_b, embedding_matrix):\n",
    "    # Retrieve batch size and number of time steps \n",
    "    batch_size, time_steps = X_b.shape[0], X_b.shape[1]\n",
    "    # Retrieve dimension of word embeddings \n",
    "    emb_dim = embedding_matrix[0].shape[0]\n",
    "    \n",
    "    # Obtain array of dimensions (emb_dim, m, T_x) \n",
    "    # containing word embeddings for corresponding word indice\n",
    "    X_emb = np.zeros((emb_dim, batch_size, time_steps))\n",
    "    for i in range(batch_size):\n",
    "        for t in range(time_steps):\n",
    "            X_emb[:, i, t] = embedding_matrix[int(X_b[i, t])]\n",
    "            \n",
    "    # Return embedding array\n",
    "    return X_emb"
   ]
  },
  {
   "cell_type": "markdown",
   "id": "98e87124",
   "metadata": {},
   "source": [
    "To optimise your deep learning network, you need to calculate a loss based on how well the model is doing on the training data. Loss value implies how poorly or well a model behaves after each iteration of optimization. <br>\n",
    "Define a function to calculate the loss using [negative log likelihood](http://d2l.ai/chapter_linear-networks/softmax-regression.html?highlight=negative%20log%20likelihood#log-likelihood)"
   ]
  },
  {
   "cell_type": "code",
   "execution_count": 19,
   "id": "f816957e",
   "metadata": {},
   "outputs": [],
   "source": [
    "def loss_f(A, Y):\n",
    "    # Retrieve batch size \n",
    "    batch_size = Y.shape[1]\n",
    "    # Implement formula for negative log likelihood \n",
    "    loss = - Y * np.log(A) - (1 - Y) * np.log(1 - A)\n",
    "    # Calculate cost function as the average of losses for one batch\n",
    "    cost = (1 / batch_size) * np.sum(loss)\n",
    "    # Return cost function \n",
    "    return np.squeeze(cost)"
   ]
  },
  {
   "cell_type": "markdown",
   "id": "efcdba7f",
   "metadata": {},
   "source": [
    "Set up the neural network's learning experiment with a training loop and start the training process.\n",
    ">Skip running this cell if you already have the trained parameters stored in a `npy` file"
   ]
  },
  {
   "cell_type": "code",
   "execution_count": 20,
   "id": "cd661bb6",
   "metadata": {},
   "outputs": [
    {
     "name": "stdout",
     "output_type": "stream",
     "text": [
      "Epoch 1 finished. \t  Loss : 0.7289012569644053\n",
      "Epoch 2 finished. \t  Loss : 0.7207217596417319\n",
      "Epoch 3 finished. \t  Loss : 0.8584854743220655\n",
      "Epoch 4 finished. \t  Loss : 0.7267256014336937\n",
      "Epoch 5 finished. \t  Loss : 0.7241629248444651\n",
      "Epoch 6 finished. \t  Loss : 0.7356888015618882\n",
      "Epoch 7 finished. \t  Loss : 0.6960702086827921\n",
      "Epoch 8 finished. \t  Loss : 0.7737124767084185\n",
      "Epoch 9 finished. \t  Loss : 0.6960691437136022\n",
      "Epoch 10 finished. \t  Loss : 0.7621892056325346\n",
      "Epoch 11 finished. \t  Loss : 0.6933677115026777\n",
      "Epoch 12 finished. \t  Loss : 0.69304922580421\n",
      "Epoch 13 finished. \t  Loss : 0.69304922580421\n",
      "Epoch 14 finished. \t  Loss : 0.7214877539958697\n",
      "Epoch 15 finished. \t  Loss : 0.6939435335684403\n",
      "Epoch 16 finished. \t  Loss : 0.701692748933922\n",
      "Epoch 17 finished. \t  Loss : 0.6933052412454788\n",
      "Epoch 18 finished. \t  Loss : 0.7387709909949653\n",
      "Epoch 19 finished. \t  Loss : 0.6930488384409238\n",
      "Epoch 20 finished. \t  Loss : 0.6933442400050821\n"
     ]
    }
   ],
   "source": [
    "# To store training losses \n",
    "# training_losses = []\n",
    "\n",
    "# This is a training loop.\n",
    "# Run the learning experiment for a defined number of epochs (iterations).\n",
    "for epoch in range(epochs):\n",
    "    #################\n",
    "    # Training step #\n",
    "    #################\n",
    "    training_losses = []\n",
    "    for b in range(no_batches):\n",
    "        # retrieve a single batch and its corresponding target variables \n",
    "        x_b = X_batches[b, :, :]\n",
    "        y_b = y_batches[b, :, :]\n",
    "        # replace word indices with word embeddings before passing to neural network\n",
    "        x_emb = embedding_vectors(x_b, imdb_emb_matrix)\n",
    "        \n",
    "        # Forward propagation/forward pass:\n",
    "        caches = forward_prop(x_emb, parameters)\n",
    "        \n",
    "        # Backward propagation/backward pass:\n",
    "        gradients = backprop(y_b, caches, hidden_dim, input_dim, time_steps,  parameters)\n",
    "        \n",
    "        # Update the weights and biases for the LSTM and fully connected layer \n",
    "        parameters, v, s = update_parameters (parameters, gradients, v, s, learning_rate=learning_rate, \n",
    "                                              beta1=0.999, beta2=0.9, epsilon=1e-8)\n",
    "        \n",
    "        # Measure the training error (loss function) between the actual\n",
    "        # sentiment (the truth) and the prediction by the model.\n",
    "        y_pred = caches['fc_values'][0][0]\n",
    "        loss = loss_f(y_pred, y_b)\n",
    "        # Store training set losses\n",
    "        training_losses.append(loss)\n",
    "        \n",
    "    # Calculate average of training losses for one epoch\n",
    "    mean_cost = np.mean(training_losses)\n",
    "    print(f'Epoch {epoch + 1} finished. \\t  Loss : {mean_cost}')\n",
    "\n",
    "# save the trained parameters to a npy file \n",
    "np.save('parameters.npy',parameters)"
   ]
  },
  {
   "cell_type": "markdown",
   "id": "b5814b01",
   "metadata": {},
   "source": [
    "### Sentiment Analysis on the Speech Data\n",
    "---"
   ]
  },
  {
   "cell_type": "markdown",
   "id": "6d9ba246",
   "metadata": {},
   "source": [
    "Once our model is trained, we can use the updated parameters to start making our predicitons. We break each speech into paragraphs of uniform size before passing them to the Deep Learning model and predicting the sentiment of each paragraph"
   ]
  },
  {
   "cell_type": "code",
   "execution_count": 31,
   "id": "af827816",
   "metadata": {},
   "outputs": [],
   "source": [
    "# To store predicted sentiments \n",
    "preds = []\n",
    "para_len = 100\n",
    "\n",
    "# Retrieve trained values of the parameters\n",
    "parameters = np.load('parameters.npy', allow_pickle='TRUE').item()\n",
    "\n",
    "# This is the prediction loop.\n",
    "for text in X_pred:\n",
    "    # retrieve the speaker and corresponding speech\n",
    "    speech = text\n",
    "    # split the speech into a list of words \n",
    "    words = speech.split()\n",
    "    # obtain the total number of paragraphs\n",
    "    no_paras = int(np.ceil(len(words)/para_len))\n",
    "    # split the speech into a list of sentences \n",
    "    sentences = speech_textproc.sent_tokeniser(speech)\n",
    "    # aggregate the sentences into paragraphs\n",
    "    k, m = divmod(len(sentences), no_paras)\n",
    "    agg_sentences = [sentences[i*k+min(i, m):(i+1)*k+min(i+1, m)] for i in range(no_paras)]\n",
    "    paras = [' '.join(sents) for sents in agg_sentences]\n",
    "    # replace each word with its corresponding word indice \n",
    "    X_pred_indices = speech_textproc.transform_input(paras)\n",
    "    # replace word indices with word embeddings before passing to neural network\n",
    "    x_emb = embedding_vectors(X_pred_indices, speech_emb_matrix)\n",
    "    # Forward Propagation\n",
    "    caches = forward_prop(x_emb, parameters)\n",
    "    \n",
    "    # Retrieve the output of the fully connected layer \n",
    "    A2 = caches['fc_values'][0][0]\n",
    "    threshold = np.mean(A2)\n",
    "\n",
    "    # Mark all predictions >0.5 as positive and <0.5 as negative \n",
    "    pred = np.zeros(A2.shape)\n",
    "    indices = np.where(A2 > threshold)  # indices where output > 0.5\n",
    "    pred[indices] = 1  # are set to 1\n",
    "    \n",
    "    # Store predictions \n",
    "    preds.append(pred[0])"
   ]
  },
  {
   "cell_type": "markdown",
   "id": "ead3452f",
   "metadata": {},
   "source": [
    "Visualising our predictions using `Matplotlib`:"
   ]
  },
  {
   "cell_type": "code",
   "execution_count": 32,
   "id": "08224f7c",
   "metadata": {},
   "outputs": [
    {
     "data": {
      "image/png": "[encoded data removed]",
      "text/plain": [
       "<Figure size 720x432 with 1 Axes>"
      ]
     },
     "metadata": {
      "needs_background": "light"
     },
     "output_type": "display_data"
    }
   ],
   "source": [
    "x_axis = []\n",
    "data = {'positive':[], 'negative':[]}\n",
    "for i in range(len(preds)):\n",
    "    # Extract the speaker and the corresponding sentiment predictions \n",
    "    speaker = speakers[i]\n",
    "    sentiment = preds[i]\n",
    "    # The speakers will be used to label the x-axis in our plot \n",
    "    x_axis.append(speaker)\n",
    "    # Obtain percentage of paragraphs with positive predicted sentiment \n",
    "    pos_perc = sum(sentiment)/len(sentiment)\n",
    "    # Store positive and negative percentages \n",
    "    data['positive'].append(pos_perc*100)\n",
    "    data['negative'].append(100*(1-pos_perc))    \n",
    "\n",
    "index = pd.Index(x_axis, name='speaker')\n",
    "df = pd.DataFrame(data, index=index)\n",
    "ax = df.plot(kind='bar', stacked=True, figsize=(10, 6))\n",
    "ax.set_ylabel('percentage')\n",
    "plt.legend(title='labels', bbox_to_anchor=(1.0, 1), loc='upper left')\n",
    "plt.show()"
   ]
  },
  {
   "cell_type": "markdown",
   "id": "f0a032cf",
   "metadata": {},
   "source": [
    "### Looking at our Neural Network from an ethical perspective\n",
    "---"
   ]
  },
  {
   "cell_type": "markdown",
   "id": "3b6ea4fa",
   "metadata": {},
   "source": [
    "It's crucial to understand that accurately identifying a text's sentiment is not easy primarily because of the complex ways in which humans express sentiment, using irony, sarcasm, humor, or, in social media, abbreviation. Moreover neatly placing text into two categories: 'positive' and 'negative' can be problematic because it is being done without any context. Words or abbreviations can convey very different sentiments depending on age and location, none of which we took into account while building our model.\n",
    "\n",
    "Along with data, there are also growing concerns that data processing algorithms are influencing policy and daily lives in ways that are not transparent and introduce biases. Certain biases such as the [Inductive Bias](https://en.wikipedia.org/wiki/Inductive_bias#:~:text=The%20inductive%20bias%20(also%20known,that%20it%20has%20not%20encountered.&text=The%20kind%20of%20necessary%20assumptions,in%20the%20phrase%20inductive%20bias) are absolutely essential to help a Machine Learning model generalise better, for example the LSTM we built earlier is biased towards preserving contextual information over long sequences which makes it so suitable for processing sequential data. The problem arises when [societal biases](https://hbr.org/2019/10/what-do-we-do-about-the-biases-in-ai) creep into algorithmic predictions. Optimizing Machine algorithms via methods like [hyperparameter tuning](https://en.wikipedia.org/wiki/Hyperparameter_optimization) can then further amplify these biases by learning every bit of information in the data. \n",
    "\n",
    "\n",
    "There are also cases where bias is only in the output and not the inputs (data, algorithm). For example, in sentiment analysis [accuracy tends to be higher on female-authored texts than on male-authored ones]( https://doi.org/10.3390/electronics9020374). End users of sentiment analysis should be aware that its small gender biases can affect the conclusions drawn from it and apply correction factors when necessary. Hence, it is important that demands for algorithmic accountability should include the ability to test the outputs of a system, including the ability to drill down into different user groups by gender, ethnicity and other characteristics, to identify, and hopefully suggest corrections for, system output biases."
   ]
  },
  {
   "cell_type": "markdown",
   "id": "3f4f09df",
   "metadata": {},
   "source": [
    "### Next Steps\n",
    "---"
   ]
  },
  {
   "cell_type": "markdown",
   "id": "f1b337a0",
   "metadata": {},
   "source": [
    "You have learned how to build and train a simple Long Short Term Memory network from scratch using just NumPy to perform sentiment analysis.\n",
    "\n",
    "To further enhance and optimize your neural network model, you can consider one of a mixture of the following:\n",
    "\n",
    "- Increase the training sample size by increasing the `split_percentile`.\n",
    "- Alter the architecture by introducing multiple LSTM layers to make the network deeper.\n",
    "- Use a higher epoch size to train longer and add more regularization techniques, such as early stopping, to prevent overfitting.\n",
    "- Introduce a validation set for an unbiased valuation of the model fit.\n",
    "- Apply batch normalization for faster and more stable training.\n",
    "- Tune other parameters, such as the learning rate and hidden layer size.\n",
    "- Replace LSTM with a [Bidirectional LSTM](https://en.wikipedia.org/wiki/Bidirectional_recurrent_neural_networks) to use both left and right context for predicting sentiment.\n",
    "\n",
    "Nowadays, LSTMs have been replaced by the [Transformer](https://jalammar.github.io/illustrated-transformer/) which uses [Attention](https://jalammar.github.io/visualizing-neural-machine-translation-mechanics-of-seq2seq-models-with-attention/) to tackle all the problems that plague an LSTM such as as lack of [transfer learning](https://en.wikipedia.org/wiki/Transfer_learning), lack of [parallel training](https://web.stanford.edu/~rezab/classes/cme323/S16/projects_reports/hedge_usmani.pdf) and a long gradient chain for lengthy sequences\n",
    "\n",
    "Building a neural network from scratch with NumPy is a great way to learn more about NumPy and about deep learning. However, for real-world applications you should use specialized frameworks — such as PyTorch, JAX, TensorFlow or MXNet — that provide NumPy-like APIs, have built-in automatic differentiation and GPU support, and are designed for high-performance numerical computing and machine learning."
   ]
  }
 ],
 "metadata": {
  "jupytext": {
   "formats": "ipynb,md:myst"
  },
  "kernelspec": {
   "display_name": "Python 3 (ipykernel)",
   "language": "python",
   "name": "python3"
  },
  "language_info": {
   "codemirror_mode": {
    "name": "ipython",
    "version": 3
   },
   "file_extension": ".py",
   "mimetype": "text/x-python",
   "name": "python",
   "nbconvert_exporter": "python",
   "pygments_lexer": "ipython3",
   "version": "3.8.10"
  }
 },
 "nbformat": 4,
 "nbformat_minor": 5
}
